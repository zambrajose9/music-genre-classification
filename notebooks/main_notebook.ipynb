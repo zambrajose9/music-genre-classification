{
 "cells": [
  {
   "cell_type": "markdown",
   "metadata": {},
   "source": [
    "# Paso 1: Cargar los datos"
   ]
  },
  {
   "cell_type": "code",
   "execution_count": 1,
   "metadata": {},
   "outputs": [],
   "source": [
    "import sys\n",
    "import os\n",
    "import yaml\n",
    "\n",
    "# Obtener el directorio de trabajo actual (en este caso estás en 'notebooks')\n",
    "current_dir = os.getcwd()\n",
    "\n",
    "# Construir la ruta relativa al nivel raíz del proyecto, que está un nivel arriba de 'notebooks'\n",
    "project_root = os.path.abspath(os.path.join(current_dir, '..'))\n",
    "\n",
    "# Cambiar el directorio de trabajo al nivel raíz del proyecto\n",
    "os.chdir(project_root)\n",
    "\n",
    "# Agregar la ruta al directorio 'src' para poder importar las funciones\n",
    "sys.path.append(os.path.join(project_root, 'src'))\n",
    "\n",
    "# Importar las funciones desde model_functions.py\n",
    "from src import model_functions as mf\n",
    "\n",
    "# Aquí iría el código para correr el modelo o cualquier lógica que estés implementando.\n"
   ]
  },
  {
   "cell_type": "code",
   "execution_count": 2,
   "metadata": {},
   "outputs": [],
   "source": [
    "# Cargar el archivo de configuración YAML (puedes cambiar entre simple y complejo)\n",
    "with open('configs/config_simple_model.yaml') as file:\n",
    "    config = yaml.load(file, Loader=yaml.FullLoader)['model']"
   ]
  },
  {
   "cell_type": "markdown",
   "metadata": {},
   "source": [
    "# 1. Cargar los datos"
   ]
  },
  {
   "cell_type": "code",
   "execution_count": 3,
   "metadata": {},
   "outputs": [],
   "source": [
    "# 1. Cargar los datos\n",
    "X, y = mf.load_data()"
   ]
  },
  {
   "cell_type": "markdown",
   "metadata": {},
   "source": [
    "# 2. Dividir los datos en entrenamiento, validación y prueba"
   ]
  },
  {
   "cell_type": "code",
   "execution_count": 4,
   "metadata": {},
   "outputs": [],
   "source": [
    "X_train, X_val, X_test, y_train, y_val, y_test = mf.split_data(X, y)"
   ]
  },
  {
   "cell_type": "markdown",
   "metadata": {},
   "source": [
    "# 3. Convertir los datos a tensores antes del entrenamiento"
   ]
  },
  {
   "cell_type": "code",
   "execution_count": 5,
   "metadata": {},
   "outputs": [],
   "source": [
    "X_train_tensor, y_train_tensor = mf.convert_to_tensor(X_train, y_train)\n",
    "X_val_tensor, y_val_tensor = mf.convert_to_tensor(X_val, y_val)\n",
    "X_test_tensor, y_test_tensor = mf.convert_to_tensor(X_test, y_test)"
   ]
  },
  {
   "cell_type": "markdown",
   "metadata": {},
   "source": [
    "# 4. Crear el modelo\n"
   ]
  },
  {
   "cell_type": "code",
   "execution_count": 6,
   "metadata": {},
   "outputs": [
    {
     "name": "stdout",
     "output_type": "stream",
     "text": [
      "{'input_size': 57, 'hidden_layers': [10], 'output_size': 10, 'activation_function': 'Tanh', 'output_activation': 'Sigmoid', 'loss_function': 'MSELoss', 'learning_rate': 0.01, 'optimizer': 'SGD', 'epochs': 1000}\n"
     ]
    }
   ],
   "source": [
    "print(config)\n"
   ]
  },
  {
   "cell_type": "code",
   "execution_count": 7,
   "metadata": {},
   "outputs": [],
   "source": [
    "modelo = mf.build_model(config)\n"
   ]
  },
  {
   "cell_type": "markdown",
   "metadata": {},
   "source": [
    "# 5. Entrenar el modelo\n"
   ]
  },
  {
   "cell_type": "code",
   "execution_count": 10,
   "metadata": {},
   "outputs": [
    {
     "name": "stdout",
     "output_type": "stream",
     "text": [
      "Epoch [10/1000], Loss Entrenamiento: 0.2837\n",
      "Epoch [20/1000], Loss Entrenamiento: 0.2792\n",
      "Epoch [30/1000], Loss Entrenamiento: 0.2749\n",
      "Epoch [40/1000], Loss Entrenamiento: 0.2706\n",
      "Epoch [50/1000], Loss Entrenamiento: 0.2664\n",
      "Epoch [60/1000], Loss Entrenamiento: 0.2622\n",
      "Epoch [70/1000], Loss Entrenamiento: 0.2582\n",
      "Epoch [80/1000], Loss Entrenamiento: 0.2542\n",
      "Epoch [90/1000], Loss Entrenamiento: 0.2503\n",
      "Epoch [100/1000], Loss Entrenamiento: 0.2464\n",
      "Epoch [110/1000], Loss Entrenamiento: 0.2427\n",
      "Epoch [120/1000], Loss Entrenamiento: 0.2390\n",
      "Epoch [130/1000], Loss Entrenamiento: 0.2354\n",
      "Epoch [140/1000], Loss Entrenamiento: 0.2319\n",
      "Epoch [150/1000], Loss Entrenamiento: 0.2285\n",
      "Epoch [160/1000], Loss Entrenamiento: 0.2251\n",
      "Epoch [170/1000], Loss Entrenamiento: 0.2219\n",
      "Epoch [180/1000], Loss Entrenamiento: 0.2186\n",
      "Epoch [190/1000], Loss Entrenamiento: 0.2155\n",
      "Epoch [200/1000], Loss Entrenamiento: 0.2125\n",
      "Epoch [210/1000], Loss Entrenamiento: 0.2095\n",
      "Epoch [220/1000], Loss Entrenamiento: 0.2066\n",
      "Epoch [230/1000], Loss Entrenamiento: 0.2038\n",
      "Epoch [240/1000], Loss Entrenamiento: 0.2010\n",
      "Epoch [250/1000], Loss Entrenamiento: 0.1983\n",
      "Epoch [260/1000], Loss Entrenamiento: 0.1957\n",
      "Epoch [270/1000], Loss Entrenamiento: 0.1931\n",
      "Epoch [280/1000], Loss Entrenamiento: 0.1907\n",
      "Epoch [290/1000], Loss Entrenamiento: 0.1882\n",
      "Epoch [300/1000], Loss Entrenamiento: 0.1859\n",
      "Epoch [310/1000], Loss Entrenamiento: 0.1836\n",
      "Epoch [320/1000], Loss Entrenamiento: 0.1814\n",
      "Epoch [330/1000], Loss Entrenamiento: 0.1792\n",
      "Epoch [340/1000], Loss Entrenamiento: 0.1771\n",
      "Epoch [350/1000], Loss Entrenamiento: 0.1750\n",
      "Epoch [360/1000], Loss Entrenamiento: 0.1730\n",
      "Epoch [370/1000], Loss Entrenamiento: 0.1711\n",
      "Epoch [380/1000], Loss Entrenamiento: 0.1692\n",
      "Epoch [390/1000], Loss Entrenamiento: 0.1674\n",
      "Epoch [400/1000], Loss Entrenamiento: 0.1656\n",
      "Epoch [410/1000], Loss Entrenamiento: 0.1639\n",
      "Epoch [420/1000], Loss Entrenamiento: 0.1622\n",
      "Epoch [430/1000], Loss Entrenamiento: 0.1606\n",
      "Epoch [440/1000], Loss Entrenamiento: 0.1590\n",
      "Epoch [450/1000], Loss Entrenamiento: 0.1575\n",
      "Epoch [460/1000], Loss Entrenamiento: 0.1560\n",
      "Epoch [470/1000], Loss Entrenamiento: 0.1545\n",
      "Epoch [480/1000], Loss Entrenamiento: 0.1531\n",
      "Epoch [490/1000], Loss Entrenamiento: 0.1517\n",
      "Epoch [500/1000], Loss Entrenamiento: 0.1504\n",
      "Epoch [510/1000], Loss Entrenamiento: 0.1491\n",
      "Epoch [520/1000], Loss Entrenamiento: 0.1479\n",
      "Epoch [530/1000], Loss Entrenamiento: 0.1466\n",
      "Epoch [540/1000], Loss Entrenamiento: 0.1454\n",
      "Epoch [550/1000], Loss Entrenamiento: 0.1443\n",
      "Epoch [560/1000], Loss Entrenamiento: 0.1432\n",
      "Epoch [570/1000], Loss Entrenamiento: 0.1421\n",
      "Epoch [580/1000], Loss Entrenamiento: 0.1410\n",
      "Epoch [590/1000], Loss Entrenamiento: 0.1400\n",
      "Epoch [600/1000], Loss Entrenamiento: 0.1390\n",
      "Epoch [610/1000], Loss Entrenamiento: 0.1380\n",
      "Epoch [620/1000], Loss Entrenamiento: 0.1371\n",
      "Epoch [630/1000], Loss Entrenamiento: 0.1361\n",
      "Epoch [640/1000], Loss Entrenamiento: 0.1352\n",
      "Epoch [650/1000], Loss Entrenamiento: 0.1344\n",
      "Epoch [660/1000], Loss Entrenamiento: 0.1335\n",
      "Epoch [670/1000], Loss Entrenamiento: 0.1327\n",
      "Epoch [680/1000], Loss Entrenamiento: 0.1319\n",
      "Epoch [690/1000], Loss Entrenamiento: 0.1311\n",
      "Epoch [700/1000], Loss Entrenamiento: 0.1303\n",
      "Epoch [710/1000], Loss Entrenamiento: 0.1296\n",
      "Epoch [720/1000], Loss Entrenamiento: 0.1289\n",
      "Epoch [730/1000], Loss Entrenamiento: 0.1282\n",
      "Epoch [740/1000], Loss Entrenamiento: 0.1275\n",
      "Epoch [750/1000], Loss Entrenamiento: 0.1268\n",
      "Epoch [760/1000], Loss Entrenamiento: 0.1262\n",
      "Epoch [770/1000], Loss Entrenamiento: 0.1255\n",
      "Epoch [780/1000], Loss Entrenamiento: 0.1249\n",
      "Epoch [790/1000], Loss Entrenamiento: 0.1243\n",
      "Epoch [800/1000], Loss Entrenamiento: 0.1237\n",
      "Epoch [810/1000], Loss Entrenamiento: 0.1231\n",
      "Epoch [820/1000], Loss Entrenamiento: 0.1226\n",
      "Epoch [830/1000], Loss Entrenamiento: 0.1220\n",
      "Epoch [840/1000], Loss Entrenamiento: 0.1215\n",
      "Epoch [850/1000], Loss Entrenamiento: 0.1210\n",
      "Epoch [860/1000], Loss Entrenamiento: 0.1205\n",
      "Epoch [870/1000], Loss Entrenamiento: 0.1200\n",
      "Epoch [880/1000], Loss Entrenamiento: 0.1195\n",
      "Epoch [890/1000], Loss Entrenamiento: 0.1190\n",
      "Epoch [900/1000], Loss Entrenamiento: 0.1185\n",
      "Epoch [910/1000], Loss Entrenamiento: 0.1181\n",
      "Epoch [920/1000], Loss Entrenamiento: 0.1176\n",
      "Epoch [930/1000], Loss Entrenamiento: 0.1172\n",
      "Epoch [940/1000], Loss Entrenamiento: 0.1168\n",
      "Epoch [950/1000], Loss Entrenamiento: 0.1164\n",
      "Epoch [960/1000], Loss Entrenamiento: 0.1160\n",
      "Epoch [970/1000], Loss Entrenamiento: 0.1156\n",
      "Epoch [980/1000], Loss Entrenamiento: 0.1152\n",
      "Epoch [990/1000], Loss Entrenamiento: 0.1148\n",
      "Epoch [1000/1000], Loss Entrenamiento: 0.1144\n"
     ]
    },
    {
     "data": {
      "image/png": "[encoded data removed]",
      "text/plain": [
       "<Figure size 1000x600 with 1 Axes>"
      ]
     },
     "metadata": {},
     "output_type": "display_data"
    }
   ],
   "source": [
    "modelo_entrenado = mf.train_model(modelo, X_train_tensor, y_train_tensor, config)"
   ]
  },
  {
   "cell_type": "markdown",
   "metadata": {},
   "source": [
    "# 6. Evaluar el modelo en el conjunto de prueba"
   ]
  },
  {
   "cell_type": "code",
   "execution_count": 13,
   "metadata": {},
   "outputs": [
    {
     "name": "stdout",
     "output_type": "stream",
     "text": [
      "Loss en el conjunto de prueba: 0.1159\n"
     ]
    }
   ],
   "source": [
    "mf.evaluate_model(modelo_entrenado, X_test_tensor, y_test_tensor, config)"
   ]
  },
  {
   "cell_type": "markdown",
   "metadata": {},
   "source": [
    "# 7. Guardar el modelo entrenado\n"
   ]
  },
  {
   "cell_type": "code",
   "execution_count": 14,
   "metadata": {},
   "outputs": [
    {
     "name": "stdout",
     "output_type": "stream",
     "text": [
      "Modelo guardado en models/model_final.pth\n"
     ]
    }
   ],
   "source": [
    "mf.save_model(modelo_entrenado)\n"
   ]
  }
 ],
 "metadata": {
  "kernelspec": {
   "display_name": "redesvenv",
   "language": "python",
   "name": "python3"
  },
  "language_info": {
   "codemirror_mode": {
    "name": "ipython",
    "version": 3
   },
   "file_extension": ".py",
   "mimetype": "text/x-python",
   "name": "python",
   "nbconvert_exporter": "python",
   "pygments_lexer": "ipython3",
   "version": "3.12.6"
  }
 },
 "nbformat": 4,
 "nbformat_minor": 2
}
